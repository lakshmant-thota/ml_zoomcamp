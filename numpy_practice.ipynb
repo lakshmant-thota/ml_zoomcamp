{
  "cells": [
    {
      "cell_type": "markdown",
      "metadata": {
        "id": "view-in-github",
        "colab_type": "text"
      },
      "source": [
        "<a href=\"https://colab.research.google.com/github/lakshmant-thota/ml_zoomcamp/blob/master/numpy_practice.ipynb\" target=\"_parent\"><img src=\"https://colab.research.google.com/assets/colab-badge.svg\" alt=\"Open In Colab\"/></a>"
      ]
    },
    {
      "cell_type": "code",
      "execution_count": null,
      "metadata": {
        "id": "mOTnEHLjbm8x"
      },
      "outputs": [],
      "source": [
        "import numpy as np"
      ]
    },
    {
      "cell_type": "markdown",
      "metadata": {
        "id": "GYEEbuLybm89"
      },
      "source": [
        "## NumPy arrays"
      ]
    },
    {
      "cell_type": "markdown",
      "metadata": {
        "id": "zMyOYmQjbm9C"
      },
      "source": [
        "Creating arrays\n",
        "\n",
        "* `np.zeros`\n",
        "* `np.ones`\n",
        "* `np.full`\n",
        "* `np.repeat`\n",
        "* `np.array`\n",
        "* `np.arange`"
      ]
    },
    {
      "cell_type": "code",
      "execution_count": null,
      "metadata": {
        "id": "U0ogKls4bm9E",
        "outputId": "d7ad387c-a265-4e25-e282-698e2d0ed0b3",
        "colab": {
          "base_uri": "https://localhost:8080/"
        }
      },
      "outputs": [
        {
          "output_type": "execute_result",
          "data": {
            "text/plain": [
              "array([0., 0., 0., 0., 0., 0., 0., 0., 0., 0.])"
            ]
          },
          "metadata": {},
          "execution_count": 2
        }
      ],
      "source": [
        "zeros = np.zeros(10)\n",
        "zeros"
      ]
    },
    {
      "cell_type": "code",
      "execution_count": null,
      "metadata": {
        "id": "e6OGrrCLbm9H",
        "outputId": "704d6dfd-5a5c-4a15-e53b-887c2dcd68e8",
        "colab": {
          "base_uri": "https://localhost:8080/"
        }
      },
      "outputs": [
        {
          "output_type": "execute_result",
          "data": {
            "text/plain": [
              "array([1., 1., 1., 1., 1., 1., 1., 1., 1., 1.])"
            ]
          },
          "metadata": {},
          "execution_count": 3
        }
      ],
      "source": [
        "ones = np.ones(10)\n",
        "ones"
      ]
    },
    {
      "cell_type": "code",
      "source": [
        "z = np.zeros_like(ones)\n",
        "z"
      ],
      "metadata": {
        "id": "pPkfLXbPb6Mv",
        "outputId": "d6a62d4a-f491-4b0f-9e79-6293f1cf7c81",
        "colab": {
          "base_uri": "https://localhost:8080/"
        }
      },
      "execution_count": null,
      "outputs": [
        {
          "output_type": "execute_result",
          "data": {
            "text/plain": [
              "array([0., 0., 0., 0., 0., 0., 0., 0., 0., 0.])"
            ]
          },
          "metadata": {},
          "execution_count": 4
        }
      ]
    },
    {
      "cell_type": "code",
      "execution_count": null,
      "metadata": {
        "id": "G22ssXHRbm9J",
        "outputId": "73760ab7-3914-4100-81a1-80c43cc9ea3f"
      },
      "outputs": [
        {
          "data": {
            "text/plain": [
              "array([0., 0., 0., 0., 0., 0., 0., 0., 0., 0.])"
            ]
          },
          "execution_count": 4,
          "metadata": {},
          "output_type": "execute_result"
        }
      ],
      "source": [
        "array = np.full(10, 0.0)\n",
        "array"
      ]
    },
    {
      "cell_type": "code",
      "execution_count": null,
      "metadata": {
        "id": "2LJ6Ih15bm9L",
        "outputId": "b6670c6b-f7ea-4da0-9c38-7830da3e91de"
      },
      "outputs": [
        {
          "data": {
            "text/plain": [
              "array([0., 0., 0., 0., 0., 0., 0., 0., 0., 0.])"
            ]
          },
          "execution_count": 5,
          "metadata": {},
          "output_type": "execute_result"
        }
      ],
      "source": [
        "array = np.repeat(0.0, 10)\n",
        "array"
      ]
    },
    {
      "cell_type": "code",
      "execution_count": null,
      "metadata": {
        "id": "YqwOqpuzbm9N",
        "outputId": "a0f5e8d7-8d38-485e-f0f4-74fe83a5ac89"
      },
      "outputs": [
        {
          "data": {
            "text/plain": [
              "array([0., 0., 0., 0., 0., 1., 1., 1., 1., 1.])"
            ]
          },
          "execution_count": 6,
          "metadata": {},
          "output_type": "execute_result"
        }
      ],
      "source": [
        "array = np.repeat([0.0, 1.0], 5)\n",
        "array"
      ]
    },
    {
      "cell_type": "code",
      "execution_count": null,
      "metadata": {
        "id": "oFlzoyWCbm9P",
        "outputId": "fd9c356f-0da8-4c58-cdfd-2c65e563088d"
      },
      "outputs": [
        {
          "data": {
            "text/plain": [
              "array([0., 0., 1., 1., 1.])"
            ]
          },
          "execution_count": 7,
          "metadata": {},
          "output_type": "execute_result"
        }
      ],
      "source": [
        "array = np.repeat([0.0, 1.0], [2, 3])\n",
        "array"
      ]
    },
    {
      "cell_type": "markdown",
      "metadata": {
        "id": "Yx9teGu_bm9Q"
      },
      "source": [
        "Accessing the element of an array by index:"
      ]
    },
    {
      "cell_type": "code",
      "execution_count": null,
      "metadata": {
        "id": "eDV3qcgLbm9R",
        "outputId": "63a24a66-dab3-4cf4-d916-803ac28dee9e"
      },
      "outputs": [
        {
          "name": "stdout",
          "output_type": "stream",
          "text": [
            "0.0\n"
          ]
        }
      ],
      "source": [
        "el = array[1]\n",
        "print(el)"
      ]
    },
    {
      "cell_type": "markdown",
      "metadata": {
        "id": "44t1Hmk1bm9S"
      },
      "source": [
        "Accessing multuple elements of an array by a list of indices:"
      ]
    },
    {
      "cell_type": "code",
      "execution_count": null,
      "metadata": {
        "id": "8EoqIE5abm9T",
        "outputId": "e6ca0e2e-2791-4609-bdee-92a2988d578c"
      },
      "outputs": [
        {
          "data": {
            "text/plain": [
              "array([1., 1., 0.])"
            ]
          },
          "execution_count": 9,
          "metadata": {},
          "output_type": "execute_result"
        }
      ],
      "source": [
        "array[[4, 2, 0]]"
      ]
    },
    {
      "cell_type": "markdown",
      "metadata": {
        "id": "UkSqaKc1bm9U"
      },
      "source": [
        "Assignment:"
      ]
    },
    {
      "cell_type": "code",
      "execution_count": null,
      "metadata": {
        "scrolled": false,
        "id": "QwI7ExA0bm9V",
        "outputId": "68230245-254a-4031-82ce-3feeb0c5beef"
      },
      "outputs": [
        {
          "name": "stdout",
          "output_type": "stream",
          "text": [
            "[0. 1. 1. 1. 1.]\n"
          ]
        }
      ],
      "source": [
        "array[1] = 1\n",
        "print(array)"
      ]
    },
    {
      "cell_type": "markdown",
      "metadata": {
        "id": "w8qAhOcVbm9W"
      },
      "source": [
        "Creating an array from a list with integers:"
      ]
    },
    {
      "cell_type": "code",
      "execution_count": null,
      "metadata": {
        "id": "XbhkBranbm9W",
        "outputId": "79b020b2-0300-4875-d038-858506acd94c"
      },
      "outputs": [
        {
          "data": {
            "text/plain": [
              "array([1, 2, 3, 4])"
            ]
          },
          "execution_count": 11,
          "metadata": {},
          "output_type": "execute_result"
        }
      ],
      "source": [
        "elements = [1, 2, 3, 4]\n",
        "array = np.array(elements)\n",
        "array"
      ]
    },
    {
      "cell_type": "markdown",
      "metadata": {
        "id": "ayKlVAcRbm9X"
      },
      "source": [
        "Specifying the type of elements:"
      ]
    },
    {
      "cell_type": "code",
      "execution_count": null,
      "metadata": {
        "id": "NS2Ba3M9bm9Y",
        "outputId": "1b7c483f-0a96-48ff-b062-83adf99d6af2"
      },
      "outputs": [
        {
          "data": {
            "text/plain": [
              "array([0, 0, 0, 0, 0, 0, 0, 0, 0, 0], dtype=uint8)"
            ]
          },
          "execution_count": 12,
          "metadata": {},
          "output_type": "execute_result"
        }
      ],
      "source": [
        "zeros = np.zeros(10, dtype=np.uint8)\n",
        "zeros"
      ]
    },
    {
      "cell_type": "markdown",
      "metadata": {
        "id": "L4NkUXnxbm9Y"
      },
      "source": [
        "`np.arange` for creating ranges:"
      ]
    },
    {
      "cell_type": "code",
      "execution_count": null,
      "metadata": {
        "id": "TOAkFFCRbm9Z",
        "outputId": "49d57e3a-149a-4f26-8e27-d483221358b9"
      },
      "outputs": [
        {
          "name": "stdout",
          "output_type": "stream",
          "text": [
            "0\n",
            "1\n",
            "2\n",
            "3\n",
            "4\n"
          ]
        }
      ],
      "source": [
        "for i in np.arange(5):\n",
        "    print(i)"
      ]
    },
    {
      "cell_type": "markdown",
      "metadata": {
        "id": "R_Pk7bz5bm9a"
      },
      "source": [
        "Linspace - for creating an array with elements from `start` till `end` of a certain size:"
      ]
    },
    {
      "cell_type": "code",
      "execution_count": null,
      "metadata": {
        "id": "tzjyPLWcbm9a",
        "outputId": "1105df7a-a724-4b72-de4c-ecb6ff29defc"
      },
      "outputs": [
        {
          "data": {
            "text/plain": [
              "array([0. , 0.1, 0.2, 0.3, 0.4, 0.5, 0.6, 0.7, 0.8, 0.9, 1. ])"
            ]
          },
          "execution_count": 14,
          "metadata": {},
          "output_type": "execute_result"
        }
      ],
      "source": [
        "thresholds = np.linspace(0, 1, 11)\n",
        "thresholds"
      ]
    },
    {
      "cell_type": "markdown",
      "metadata": {
        "id": "cIRV8Tqcbm9b"
      },
      "source": [
        "Be careful with overflowing:"
      ]
    },
    {
      "cell_type": "code",
      "execution_count": null,
      "metadata": {
        "id": "mcyVpMXibm9b",
        "outputId": "da4093cb-ee1a-4df5-95cb-09e415066577"
      },
      "outputs": [
        {
          "data": {
            "text/plain": [
              "array([44,  0,  0,  0,  0,  0,  0,  0,  0,  0], dtype=uint8)"
            ]
          },
          "execution_count": 15,
          "metadata": {},
          "output_type": "execute_result"
        }
      ],
      "source": [
        "zeros[0] = 300\n",
        "zeros"
      ]
    },
    {
      "cell_type": "code",
      "execution_count": null,
      "metadata": {
        "id": "TIdPvy4mbm9c",
        "outputId": "5ba250d3-4b0c-4493-8f81-ffdb314a1783",
        "colab": {
          "base_uri": "https://localhost:8080/"
        }
      },
      "outputs": [
        {
          "output_type": "stream",
          "name": "stdout",
          "text": [
            "300.0\n"
          ]
        }
      ],
      "source": [
        "zeros[0] = 300\n",
        "print(zeros[0])"
      ]
    },
    {
      "cell_type": "code",
      "execution_count": null,
      "metadata": {
        "scrolled": true,
        "id": "oC5Bf2-Qbm9c",
        "outputId": "96560317-aa64-41fe-8b07-3dbc65bc0952"
      },
      "outputs": [
        {
          "data": {
            "text/plain": [
              "44"
            ]
          },
          "execution_count": 17,
          "metadata": {},
          "output_type": "execute_result"
        }
      ],
      "source": [
        "300 % 256"
      ]
    },
    {
      "cell_type": "markdown",
      "metadata": {
        "id": "V_k2W_8Abm9d"
      },
      "source": [
        "## Multi-dimensional NumPy arrays"
      ]
    },
    {
      "cell_type": "markdown",
      "metadata": {
        "id": "ngx9tU3Cbm9e"
      },
      "source": [
        "Specify the shape with a tuple:"
      ]
    },
    {
      "cell_type": "code",
      "execution_count": null,
      "metadata": {
        "id": "-1s9g12ebm9e",
        "outputId": "7aeab5e4-9637-431a-88be-634a3b620403"
      },
      "outputs": [
        {
          "data": {
            "text/plain": [
              "array([[0., 0.],\n",
              "       [0., 0.],\n",
              "       [0., 0.],\n",
              "       [0., 0.],\n",
              "       [0., 0.]], dtype=float32)"
            ]
          },
          "execution_count": 18,
          "metadata": {},
          "output_type": "execute_result"
        }
      ],
      "source": [
        "zeros = np.zeros((5, 2), dtype=np.float32)\n",
        "zeros"
      ]
    },
    {
      "cell_type": "code",
      "execution_count": null,
      "metadata": {
        "id": "cfQkM4mEbm9f",
        "outputId": "0d652d91-9664-4082-bcd5-e9a03407b914"
      },
      "outputs": [
        {
          "name": "stdout",
          "output_type": "stream",
          "text": [
            "(5, 2)\n"
          ]
        }
      ],
      "source": [
        "print(zeros.shape)"
      ]
    },
    {
      "cell_type": "code",
      "execution_count": null,
      "metadata": {
        "id": "db8U3rXfbm9f"
      },
      "outputs": [],
      "source": [
        "numbers = [\n",
        "    [1, 2, 3],\n",
        "    [4, 5, 6],\n",
        "    [7, 8, 9]\n",
        "]\n",
        "\n",
        "numbers = np.array(numbers)"
      ]
    },
    {
      "cell_type": "code",
      "execution_count": null,
      "metadata": {
        "id": "62lKUZNJbm9g",
        "outputId": "48eaa576-b623-40f8-8d59-7eb15e1b8e9c",
        "colab": {
          "base_uri": "https://localhost:8080/"
        }
      },
      "outputs": [
        {
          "output_type": "stream",
          "name": "stdout",
          "text": [
            "2\n"
          ]
        }
      ],
      "source": [
        "print(numbers[0, 1])"
      ]
    },
    {
      "cell_type": "markdown",
      "metadata": {
        "id": "2wQATGlpbm9h"
      },
      "source": [
        "Assignment: use a tuple (row index, column index)"
      ]
    },
    {
      "cell_type": "code",
      "execution_count": null,
      "metadata": {
        "id": "2wbSnh_Vbm9h"
      },
      "outputs": [],
      "source": [
        "numbers[0, 1] = 10"
      ]
    },
    {
      "cell_type": "code",
      "execution_count": null,
      "metadata": {
        "id": "YWXkmvyebm9i",
        "outputId": "9a73fae7-5054-4da1-d3fe-5c272e286433",
        "colab": {
          "base_uri": "https://localhost:8080/"
        }
      },
      "outputs": [
        {
          "output_type": "execute_result",
          "data": {
            "text/plain": [
              "array([[ 1, 10,  3],\n",
              "       [ 4,  5,  6],\n",
              "       [ 7,  8,  9]])"
            ]
          },
          "metadata": {},
          "execution_count": 9
        }
      ],
      "source": [
        "numbers"
      ]
    },
    {
      "cell_type": "code",
      "execution_count": null,
      "metadata": {
        "id": "038g5_ZZbm9i",
        "outputId": "2d3641c6-13be-4c0e-920c-9c5c5d254016",
        "colab": {
          "base_uri": "https://localhost:8080/"
        }
      },
      "outputs": [
        {
          "output_type": "execute_result",
          "data": {
            "text/plain": [
              "array([ 1, 10,  3])"
            ]
          },
          "metadata": {},
          "execution_count": 10
        }
      ],
      "source": [
        "numbers[0]"
      ]
    },
    {
      "cell_type": "markdown",
      "metadata": {
        "id": "lNxiHoDtbm9j"
      },
      "source": [
        "Slicing: getting a column:"
      ]
    },
    {
      "cell_type": "code",
      "source": [
        "numbers[2,:]"
      ],
      "metadata": {
        "id": "Yu75g3UsgHbJ",
        "outputId": "51a8802e-4255-4ceb-cf66-3f34235b7843",
        "colab": {
          "base_uri": "https://localhost:8080/"
        }
      },
      "execution_count": null,
      "outputs": [
        {
          "output_type": "execute_result",
          "data": {
            "text/plain": [
              "array([7, 8, 9])"
            ]
          },
          "metadata": {},
          "execution_count": 13
        }
      ]
    },
    {
      "cell_type": "code",
      "execution_count": null,
      "metadata": {
        "id": "d0wVmW4Zbm9k",
        "outputId": "722a0829-c3d7-455f-a9ea-a7609cd7fee9",
        "colab": {
          "base_uri": "https://localhost:8080/"
        }
      },
      "outputs": [
        {
          "output_type": "execute_result",
          "data": {
            "text/plain": [
              "array([10,  5,  8])"
            ]
          },
          "metadata": {},
          "execution_count": 11
        }
      ],
      "source": [
        "numbers[:, 1]"
      ]
    },
    {
      "cell_type": "markdown",
      "metadata": {
        "id": "Ppdbtg-obm91"
      },
      "source": [
        "Assigning a row:"
      ]
    },
    {
      "cell_type": "code",
      "execution_count": null,
      "metadata": {
        "id": "vnnuTtbcbm91"
      },
      "outputs": [],
      "source": [
        "numbers[1] = [1, 1, 1]"
      ]
    },
    {
      "cell_type": "code",
      "execution_count": null,
      "metadata": {
        "id": "YyuuaBtWbm92",
        "outputId": "d4ae2573-4980-4665-b6d1-aea24b97108e",
        "colab": {
          "base_uri": "https://localhost:8080/"
        }
      },
      "outputs": [
        {
          "output_type": "execute_result",
          "data": {
            "text/plain": [
              "array([[ 1, 10,  3],\n",
              "       [ 1,  1,  1],\n",
              "       [ 7,  8,  9]])"
            ]
          },
          "metadata": {},
          "execution_count": 15
        }
      ],
      "source": [
        "numbers"
      ]
    },
    {
      "cell_type": "markdown",
      "metadata": {
        "id": "s-QXuXOpbm92"
      },
      "source": [
        "Assigning a column:"
      ]
    },
    {
      "cell_type": "code",
      "execution_count": null,
      "metadata": {
        "id": "vDO_C9mgbm93"
      },
      "outputs": [],
      "source": [
        "numbers[:, 2] = [9, 9, 9]"
      ]
    },
    {
      "cell_type": "code",
      "execution_count": null,
      "metadata": {
        "id": "4cz9tp0dbm93",
        "outputId": "e255e6cf-0b17-479f-e9c4-cbcb78141a7e",
        "colab": {
          "base_uri": "https://localhost:8080/"
        }
      },
      "outputs": [
        {
          "output_type": "execute_result",
          "data": {
            "text/plain": [
              "array([[ 1, 10,  9],\n",
              "       [ 1,  1,  9],\n",
              "       [ 7,  8,  9]])"
            ]
          },
          "metadata": {},
          "execution_count": 17
        }
      ],
      "source": [
        "numbers"
      ]
    },
    {
      "cell_type": "code",
      "source": [
        "np.random.seed(2)\n",
        "\n"
      ],
      "metadata": {
        "id": "KDHPfgW3hcOd"
      },
      "execution_count": null,
      "outputs": []
    },
    {
      "cell_type": "code",
      "source": [
        "np.random.seed(10)\n",
        "np.random.randint(low=0, high=10, size=(5, 2))\n",
        "\n",
        "\n",
        "\n"
      ],
      "metadata": {
        "id": "oFD-8ErLgvS_",
        "outputId": "ae4f8875-9e00-4743-dde3-9e42f5b91d11",
        "colab": {
          "base_uri": "https://localhost:8080/"
        }
      },
      "execution_count": null,
      "outputs": [
        {
          "output_type": "execute_result",
          "data": {
            "text/plain": [
              "array([[9, 4],\n",
              "       [0, 1],\n",
              "       [9, 0],\n",
              "       [1, 8],\n",
              "       [9, 0]])"
            ]
          },
          "metadata": {},
          "execution_count": 32
        }
      ]
    },
    {
      "cell_type": "code",
      "source": [],
      "metadata": {
        "id": "Wuwebre2hbZ0"
      },
      "execution_count": null,
      "outputs": []
    },
    {
      "cell_type": "code",
      "source": [],
      "metadata": {
        "id": "zzEf6tDahYDb"
      },
      "execution_count": null,
      "outputs": []
    },
    {
      "cell_type": "code",
      "source": [],
      "metadata": {
        "id": "ZraWLzAjhWh7"
      },
      "execution_count": null,
      "outputs": []
    },
    {
      "cell_type": "code",
      "source": [],
      "metadata": {
        "id": "lFSHElhEhVvj"
      },
      "execution_count": null,
      "outputs": []
    },
    {
      "cell_type": "code",
      "source": [],
      "metadata": {
        "id": "uXSixc2EhUlD"
      },
      "execution_count": null,
      "outputs": []
    },
    {
      "cell_type": "markdown",
      "metadata": {
        "id": "EUlgNNasbm94"
      },
      "source": [
        "## Randomly generated arrays\n"
      ]
    },
    {
      "cell_type": "markdown",
      "metadata": {
        "id": "C-UrYlOBbm95"
      },
      "source": [
        "Uniform random numbers between 0 and 1 of shape (5, 2):"
      ]
    },
    {
      "cell_type": "code",
      "execution_count": null,
      "metadata": {
        "id": "pUT6l5VHbm95",
        "outputId": "e1647623-7014-44c8-ea12-b50fc5820530"
      },
      "outputs": [
        {
          "data": {
            "text/plain": [
              "array([[0.28875881, 0.35140886],\n",
              "       [0.58407046, 0.43713904],\n",
              "       [0.05416264, 0.29666846],\n",
              "       [0.98028613, 0.08803755],\n",
              "       [0.14793322, 0.27545387]])"
            ]
          },
          "execution_count": 30,
          "metadata": {},
          "output_type": "execute_result"
        }
      ],
      "source": [
        "np.random.rand(5, 2)"
      ]
    },
    {
      "cell_type": "markdown",
      "metadata": {
        "id": "ibI-alK3bm96"
      },
      "source": [
        "Set seed for reproducibility:"
      ]
    },
    {
      "cell_type": "code",
      "execution_count": null,
      "metadata": {
        "id": "-mKEqO3Abm96",
        "outputId": "a12b31e6-f79d-4790-c182-b1891c33b43d",
        "colab": {
          "base_uri": "https://localhost:8080/"
        }
      },
      "outputs": [
        {
          "output_type": "execute_result",
          "data": {
            "text/plain": [
              "array([[0.4359949 , 0.02592623],\n",
              "       [0.54966248, 0.43532239],\n",
              "       [0.4203678 , 0.33033482],\n",
              "       [0.20464863, 0.61927097],\n",
              "       [0.29965467, 0.26682728]])"
            ]
          },
          "metadata": {},
          "execution_count": 37
        }
      ],
      "source": [
        "np.random.seed(2)\n",
        "arr = np.random.rand(5, 2)\n",
        "arr"
      ]
    },
    {
      "cell_type": "code",
      "execution_count": null,
      "metadata": {
        "id": "skxzJezObm97",
        "outputId": "63c6eb67-2068-4ed6-873e-fed0ac995741",
        "colab": {
          "base_uri": "https://localhost:8080/"
        }
      },
      "outputs": [
        {
          "output_type": "execute_result",
          "data": {
            "text/plain": [
              "array([[-0.41675785, -0.05626683],\n",
              "       [-2.1361961 ,  1.64027081],\n",
              "       [-1.79343559, -0.84174737],\n",
              "       [ 0.50288142, -1.24528809],\n",
              "       [-1.05795222, -0.90900761]])"
            ]
          },
          "metadata": {},
          "execution_count": 39
        }
      ],
      "source": [
        "np.random.seed(2)\n",
        "np.random.randn(5, 2)"
      ]
    },
    {
      "cell_type": "markdown",
      "metadata": {
        "id": "QLlGuUPibm98"
      },
      "source": [
        "Random integers between 0 and 99 (100 is not included)"
      ]
    },
    {
      "cell_type": "code",
      "execution_count": null,
      "metadata": {
        "id": "D8SDUqcobm98",
        "outputId": "2aee594b-8568-4a18-948d-5caacc305965"
      },
      "outputs": [
        {
          "data": {
            "text/plain": [
              "array([[40, 15],\n",
              "       [72, 22],\n",
              "       [43, 82],\n",
              "       [75,  7],\n",
              "       [34, 49]])"
            ]
          },
          "execution_count": 33,
          "metadata": {},
          "output_type": "execute_result"
        }
      ],
      "source": [
        "np.random.seed(2)\n",
        "np.random.randint(low=0, high=100, size=(5, 2))"
      ]
    },
    {
      "cell_type": "markdown",
      "metadata": {
        "id": "hZvjWZn7bm99"
      },
      "source": [
        "## Element-wise operations"
      ]
    },
    {
      "cell_type": "code",
      "execution_count": null,
      "metadata": {
        "id": "QWtHztWqbm9-",
        "outputId": "71587d02-318f-4ba9-c5f8-e4a6c6b205d9"
      },
      "outputs": [
        {
          "data": {
            "text/plain": [
              "array([0, 1, 2, 3, 4])"
            ]
          },
          "execution_count": 34,
          "metadata": {},
          "output_type": "execute_result"
        }
      ],
      "source": [
        "rng = np.arange(5)\n",
        "rng"
      ]
    },
    {
      "cell_type": "markdown",
      "metadata": {
        "id": "oqTiv1cjbm9-"
      },
      "source": [
        "Every item in the array is multiplied by 2:"
      ]
    },
    {
      "cell_type": "code",
      "execution_count": null,
      "metadata": {
        "id": "D6w5G6Vhbm9_",
        "outputId": "27957a95-e109-453e-f71d-d669af68fdab"
      },
      "outputs": [
        {
          "data": {
            "text/plain": [
              "array([0, 2, 4, 6, 8])"
            ]
          },
          "execution_count": 35,
          "metadata": {},
          "output_type": "execute_result"
        }
      ],
      "source": [
        "rng * 2"
      ]
    },
    {
      "cell_type": "code",
      "execution_count": null,
      "metadata": {
        "id": "bSLlW6A1bm9_",
        "outputId": "0b5db7f2-b0b9-4c50-fe5e-8b32c853bb5d"
      },
      "outputs": [
        {
          "data": {
            "text/plain": [
              "array([-0.5,  1. ,  2.5,  4. ,  5.5])"
            ]
          },
          "execution_count": 36,
          "metadata": {},
          "output_type": "execute_result"
        }
      ],
      "source": [
        "(rng - 1) * 3 / 2 + 1"
      ]
    },
    {
      "cell_type": "markdown",
      "metadata": {
        "id": "cQ7BsIP4bm-A"
      },
      "source": [
        "Adding one array with another"
      ]
    },
    {
      "cell_type": "code",
      "execution_count": null,
      "metadata": {
        "id": "WYp4Jb7Vbm-B",
        "outputId": "2ece67df-eea0-4daa-e4c7-952ec7ae28e7"
      },
      "outputs": [
        {
          "data": {
            "text/plain": [
              "array([0.00435995, 0.00025926, 0.00549662, 0.00435322, 0.00420368])"
            ]
          },
          "execution_count": 37,
          "metadata": {},
          "output_type": "execute_result"
        }
      ],
      "source": [
        "np.random.seed(2)\n",
        "noise = 0.01 * np.random.rand(5)\n",
        "noise"
      ]
    },
    {
      "cell_type": "code",
      "execution_count": null,
      "metadata": {
        "id": "e8n-Fkl9bm-B",
        "outputId": "2e94f619-ae91-488d-aefa-ef387625fda5"
      },
      "outputs": [
        {
          "data": {
            "text/plain": [
              "array([0, 1, 2, 3, 4])"
            ]
          },
          "execution_count": 38,
          "metadata": {},
          "output_type": "execute_result"
        }
      ],
      "source": [
        "numbers = np.arange(5)\n",
        "numbers"
      ]
    },
    {
      "cell_type": "code",
      "execution_count": null,
      "metadata": {
        "id": "njX3-tuvbm-C",
        "outputId": "6e3f3f94-a0a2-4741-d215-4ad855dced4f"
      },
      "outputs": [
        {
          "data": {
            "text/plain": [
              "array([0.00435995, 1.00025926, 2.00549662, 3.00435322, 4.00420368])"
            ]
          },
          "execution_count": 39,
          "metadata": {},
          "output_type": "execute_result"
        }
      ],
      "source": [
        "result = numbers + noise\n",
        "result"
      ]
    },
    {
      "cell_type": "markdown",
      "metadata": {
        "id": "jeTgdRdhbm-D"
      },
      "source": [
        "Rounding the numbers to 4th digit:"
      ]
    },
    {
      "cell_type": "code",
      "execution_count": null,
      "metadata": {
        "id": "AeAx6T_tbm-D",
        "outputId": "45bb0250-30d6-4597-d222-a462c3d54e9d"
      },
      "outputs": [
        {
          "data": {
            "text/plain": [
              "array([0.0044, 1.0003, 2.0055, 3.0044, 4.0042])"
            ]
          },
          "execution_count": 40,
          "metadata": {},
          "output_type": "execute_result"
        }
      ],
      "source": [
        "result.round(4)"
      ]
    },
    {
      "cell_type": "markdown",
      "metadata": {
        "id": "5-uNJ15Wbm-E"
      },
      "source": [
        "Two ways to square each element:\n",
        "\n",
        "* element-wise multiplication with itself\n",
        "* the power operator (`**`)"
      ]
    },
    {
      "cell_type": "code",
      "execution_count": null,
      "metadata": {
        "id": "Yxe09XCpbm-F",
        "outputId": "a155dfcd-cc5d-4033-afd2-f8797fbf66b9"
      },
      "outputs": [
        {
          "data": {
            "text/plain": [
              "array([0.44, 0.03, 0.55])"
            ]
          },
          "execution_count": 41,
          "metadata": {},
          "output_type": "execute_result"
        }
      ],
      "source": [
        "np.random.seed(2)\n",
        "pred = np.random.rand(3).round(2)\n",
        "pred"
      ]
    },
    {
      "cell_type": "code",
      "execution_count": null,
      "metadata": {
        "id": "prEcKUZJbm-G",
        "outputId": "a52a677c-d462-46f4-e3cb-e09e24a3696f"
      },
      "outputs": [
        {
          "data": {
            "text/plain": [
              "array([0.1936, 0.0009, 0.3025])"
            ]
          },
          "execution_count": 42,
          "metadata": {},
          "output_type": "execute_result"
        }
      ],
      "source": [
        "square = pred * pred\n",
        "square"
      ]
    },
    {
      "cell_type": "code",
      "execution_count": null,
      "metadata": {
        "id": "vpZTXYrMbm-G",
        "outputId": "b3d7dff4-2908-4299-8495-b1c1809d2e57"
      },
      "outputs": [
        {
          "data": {
            "text/plain": [
              "array([0.1936, 0.0009, 0.3025])"
            ]
          },
          "execution_count": 43,
          "metadata": {},
          "output_type": "execute_result"
        }
      ],
      "source": [
        "square = pred ** 2\n",
        "square"
      ]
    },
    {
      "cell_type": "markdown",
      "metadata": {
        "id": "BXVis39lbm-H"
      },
      "source": [
        "Other element-wise operations:\n",
        "\n",
        "- `exp`\n",
        "- `log`\n",
        "- `sqrt`"
      ]
    },
    {
      "cell_type": "code",
      "execution_count": null,
      "metadata": {
        "scrolled": true,
        "id": "tQN9iYDZbm-H",
        "outputId": "ec80f3c0-f2e4-45fc-f9c7-6516eff55abe"
      },
      "outputs": [
        {
          "data": {
            "text/plain": [
              "array([1.55270722, 1.03045453, 1.73325302])"
            ]
          },
          "execution_count": 44,
          "metadata": {},
          "output_type": "execute_result"
        }
      ],
      "source": [
        "np.exp(pred)"
      ]
    },
    {
      "cell_type": "code",
      "execution_count": null,
      "metadata": {
        "id": "dklDIUjsbm-I",
        "outputId": "7ba9f54e-c5f1-48eb-def9-2852b4c8a685"
      },
      "outputs": [
        {
          "data": {
            "text/plain": [
              "array([-0.82098055, -3.5065579 , -0.597837  ])"
            ]
          },
          "execution_count": 45,
          "metadata": {},
          "output_type": "execute_result"
        }
      ],
      "source": [
        "np.log(pred)"
      ]
    },
    {
      "cell_type": "code",
      "execution_count": null,
      "metadata": {
        "scrolled": true,
        "id": "sUJFh-Hvbm-J",
        "outputId": "129d81de-f2a3-4aba-99cf-314bf2483820"
      },
      "outputs": [
        {
          "data": {
            "text/plain": [
              "array([0.66332496, 0.17320508, 0.74161985])"
            ]
          },
          "execution_count": 46,
          "metadata": {},
          "output_type": "execute_result"
        }
      ],
      "source": [
        "np.sqrt(pred)"
      ]
    },
    {
      "cell_type": "markdown",
      "metadata": {
        "id": "iIv01kShbm-J"
      },
      "source": [
        "### Comparison operations"
      ]
    },
    {
      "cell_type": "code",
      "execution_count": null,
      "metadata": {
        "scrolled": true,
        "id": "a39S7JKLbm-K",
        "outputId": "ee41bf16-1fa3-4d7b-ddc0-2545516a6619"
      },
      "outputs": [
        {
          "data": {
            "text/plain": [
              "array([0.44, 0.03, 0.55])"
            ]
          },
          "execution_count": 47,
          "metadata": {},
          "output_type": "execute_result"
        }
      ],
      "source": [
        "np.random.seed(2)\n",
        "pred = np.random.rand(3).round(2)\n",
        "pred"
      ]
    },
    {
      "cell_type": "code",
      "execution_count": null,
      "metadata": {
        "id": "aj-UnIE0bm-K",
        "outputId": "23086c75-4b9b-47a3-b532-7068368b2814"
      },
      "outputs": [
        {
          "data": {
            "text/plain": [
              "array([False, False,  True])"
            ]
          },
          "execution_count": 48,
          "metadata": {},
          "output_type": "execute_result"
        }
      ],
      "source": [
        "result = pred >= 0.5\n",
        "result"
      ]
    },
    {
      "cell_type": "code",
      "execution_count": null,
      "metadata": {
        "id": "GgORL8X5bm-L"
      },
      "outputs": [],
      "source": [
        "np.random.seed(2)\n"
      ]
    },
    {
      "cell_type": "code",
      "execution_count": null,
      "metadata": {
        "id": "i03SItzVbm-M",
        "outputId": "a1ce214c-17c5-4c8a-f7c2-cb3faa14f231"
      },
      "outputs": [
        {
          "data": {
            "text/plain": [
              "array([0.44, 0.03, 0.55])"
            ]
          },
          "execution_count": 50,
          "metadata": {},
          "output_type": "execute_result"
        }
      ],
      "source": [
        "pred1 = np.random.rand(3).round(2)\n",
        "pred1"
      ]
    },
    {
      "cell_type": "code",
      "execution_count": null,
      "metadata": {
        "id": "0-alJtnKbm-M",
        "outputId": "a08c6f29-f684-4aad-c867-045a2af4d755"
      },
      "outputs": [
        {
          "data": {
            "text/plain": [
              "array([0.44, 0.42, 0.33])"
            ]
          },
          "execution_count": 51,
          "metadata": {},
          "output_type": "execute_result"
        }
      ],
      "source": [
        "pred2 = np.random.rand(3).round(2)\n",
        "pred2"
      ]
    },
    {
      "cell_type": "code",
      "execution_count": null,
      "metadata": {
        "id": "JYLZ7heIbm-N",
        "outputId": "a441387a-0a66-4976-9c31-a28c9acceab8"
      },
      "outputs": [
        {
          "data": {
            "text/plain": [
              "array([ True, False,  True])"
            ]
          },
          "execution_count": 52,
          "metadata": {},
          "output_type": "execute_result"
        }
      ],
      "source": [
        "pred1 >= pred2"
      ]
    },
    {
      "cell_type": "code",
      "execution_count": null,
      "metadata": {
        "id": "a-pB1Fjtbm-O"
      },
      "outputs": [],
      "source": [
        "np.random.seed(2)"
      ]
    },
    {
      "cell_type": "code",
      "execution_count": null,
      "metadata": {
        "id": "Me-kdfj1bm-O",
        "outputId": "e1119336-1927-4c03-9af3-b3f5a9812f8f"
      },
      "outputs": [
        {
          "data": {
            "text/plain": [
              "array([ True, False,  True])"
            ]
          },
          "execution_count": 54,
          "metadata": {},
          "output_type": "execute_result"
        }
      ],
      "source": [
        "pred1 = np.random.rand(3) >= 0.3\n",
        "pred1"
      ]
    },
    {
      "cell_type": "code",
      "execution_count": null,
      "metadata": {
        "id": "KVb8atYybm-P",
        "outputId": "e96883ee-dbd7-4f33-99dc-5776d1e2e836"
      },
      "outputs": [
        {
          "data": {
            "text/plain": [
              "array([ True,  True, False])"
            ]
          },
          "execution_count": 55,
          "metadata": {},
          "output_type": "execute_result"
        }
      ],
      "source": [
        "pred2 = np.random.rand(3) >= 0.4\n",
        "pred2"
      ]
    },
    {
      "cell_type": "markdown",
      "metadata": {
        "id": "tSbw_iNObm-P"
      },
      "source": [
        "### Logical operations"
      ]
    },
    {
      "cell_type": "code",
      "execution_count": null,
      "metadata": {
        "id": "68rj9zsebm-P",
        "outputId": "ea2dc3c1-de10-45f4-84cd-a7d3b676b296"
      },
      "outputs": [
        {
          "data": {
            "text/plain": [
              "array([ True, False, False])"
            ]
          },
          "execution_count": 56,
          "metadata": {},
          "output_type": "execute_result"
        }
      ],
      "source": [
        "pred1 & pred2"
      ]
    },
    {
      "cell_type": "code",
      "execution_count": null,
      "metadata": {
        "id": "rVJof0gubm-Q",
        "outputId": "ccb0ab9d-da48-4029-ecc2-3834462ef396"
      },
      "outputs": [
        {
          "data": {
            "text/plain": [
              "array([ True,  True,  True])"
            ]
          },
          "execution_count": 57,
          "metadata": {},
          "output_type": "execute_result"
        }
      ],
      "source": [
        "pred1 | pred2"
      ]
    },
    {
      "cell_type": "markdown",
      "metadata": {
        "id": "kyvfBofybm-Q"
      },
      "source": [
        "## Summarizing operations"
      ]
    },
    {
      "cell_type": "markdown",
      "metadata": {
        "id": "5b6RXHvWbm-R"
      },
      "source": [
        "Summarizing operations process and array and return a single number"
      ]
    },
    {
      "cell_type": "code",
      "execution_count": null,
      "metadata": {
        "id": "2ctIUFelbm-R",
        "outputId": "ce32c278-f293-415a-dbd8-2f85ed68f6c5"
      },
      "outputs": [
        {
          "data": {
            "text/plain": [
              "array([0.44, 0.03, 0.55])"
            ]
          },
          "execution_count": 58,
          "metadata": {},
          "output_type": "execute_result"
        }
      ],
      "source": [
        "np.random.seed(2)\n",
        "pred = np.random.rand(3).round(2)\n",
        "pred_sum = pred.sum()\n",
        "pred"
      ]
    },
    {
      "cell_type": "code",
      "execution_count": null,
      "metadata": {
        "id": "7RBHCPmFbm-S",
        "outputId": "006231fd-5b8c-411c-9a50-51c5abaa23e6"
      },
      "outputs": [
        {
          "data": {
            "text/plain": [
              "1.02"
            ]
          },
          "execution_count": 59,
          "metadata": {},
          "output_type": "execute_result"
        }
      ],
      "source": [
        "pred_sum"
      ]
    },
    {
      "cell_type": "code",
      "execution_count": null,
      "metadata": {
        "id": "06mleNFJbm-S",
        "outputId": "ab44dd34-1a96-4bb3-fa8a-96a704a2ee69"
      },
      "outputs": [
        {
          "name": "stdout",
          "output_type": "stream",
          "text": [
            "min = 0.03\n",
            "mean = 0.34\n",
            "max = 0.55\n",
            "std = 0.22\n"
          ]
        }
      ],
      "source": [
        "print('min = %.2f' % pred.min())\n",
        "print('mean = %.2f' % pred.mean())\n",
        "print('max = %.2f' % pred.max())\n",
        "print('std = %.2f' % pred.std())"
      ]
    },
    {
      "cell_type": "markdown",
      "metadata": {
        "id": "Avw2vCyPbm-T"
      },
      "source": [
        "For two-dimentional array it works in the same way:"
      ]
    },
    {
      "cell_type": "code",
      "execution_count": null,
      "metadata": {
        "id": "pOFQzE_ybm-T",
        "outputId": "e78d77d3-4e1e-478a-b445-1712f5cf5c2d"
      },
      "outputs": [
        {
          "data": {
            "text/plain": [
              "array([[0.44, 0.03, 0.55],\n",
              "       [0.44, 0.42, 0.33],\n",
              "       [0.2 , 0.62, 0.3 ],\n",
              "       [0.27, 0.62, 0.53]])"
            ]
          },
          "execution_count": 61,
          "metadata": {},
          "output_type": "execute_result"
        }
      ],
      "source": [
        "np.random.seed(2)\n",
        "matrix = np.random.rand(4, 3).round(2)\n",
        "matrix"
      ]
    },
    {
      "cell_type": "code",
      "execution_count": null,
      "metadata": {
        "id": "Bt4IYccIbm-T",
        "outputId": "0f7c1b7d-66a6-4dad-bb30-ac72c8aa5b25"
      },
      "outputs": [
        {
          "data": {
            "text/plain": [
              "0.62"
            ]
          },
          "execution_count": 62,
          "metadata": {},
          "output_type": "execute_result"
        }
      ],
      "source": [
        "matrix.max()"
      ]
    },
    {
      "cell_type": "markdown",
      "metadata": {
        "id": "CfGs6aiybm-U"
      },
      "source": [
        "But we can specify the axis along which we apply the summarizing operation\n",
        "\n",
        "- `axis=1` - apply to each rows\n",
        "- `axis=0` - apply to each column"
      ]
    },
    {
      "cell_type": "code",
      "execution_count": null,
      "metadata": {
        "id": "vR2qBHjpbm-U",
        "outputId": "cb499c3c-92f1-4fa8-e10b-9f158083eaba"
      },
      "outputs": [
        {
          "data": {
            "text/plain": [
              "array([0.55, 0.44, 0.62, 0.62])"
            ]
          },
          "execution_count": 63,
          "metadata": {},
          "output_type": "execute_result"
        }
      ],
      "source": [
        "matrix.max(axis=1)"
      ]
    },
    {
      "cell_type": "code",
      "execution_count": null,
      "metadata": {
        "scrolled": true,
        "id": "xq9YfrHjbm-V",
        "outputId": "6a0399c1-bcd6-4559-bf4e-e5199917d724"
      },
      "outputs": [
        {
          "data": {
            "text/plain": [
              "array([0.44, 0.62, 0.55])"
            ]
          },
          "execution_count": 64,
          "metadata": {},
          "output_type": "execute_result"
        }
      ],
      "source": [
        "matrix.max(axis=0)"
      ]
    },
    {
      "cell_type": "code",
      "execution_count": null,
      "metadata": {
        "id": "8I8MINGXbm-V",
        "outputId": "c44825a4-4de9-4086-82f2-2c7062015b0d"
      },
      "outputs": [
        {
          "data": {
            "text/plain": [
              "array([1.02, 1.19, 1.12, 1.42])"
            ]
          },
          "execution_count": 65,
          "metadata": {},
          "output_type": "execute_result"
        }
      ],
      "source": [
        "matrix.sum(axis=1)"
      ]
    },
    {
      "cell_type": "markdown",
      "metadata": {
        "id": "ajIatpuBbm-V"
      },
      "source": [
        "## Sorting"
      ]
    },
    {
      "cell_type": "code",
      "execution_count": null,
      "metadata": {
        "id": "hrwuBg4ibm-W",
        "outputId": "1dc55509-6476-4884-e337-7d3e459b5287"
      },
      "outputs": [
        {
          "data": {
            "text/plain": [
              "array([0.44, 0.03, 0.55, 0.44])"
            ]
          },
          "execution_count": 66,
          "metadata": {},
          "output_type": "execute_result"
        }
      ],
      "source": [
        "np.random.seed(2)\n",
        "pred = np.random.rand(4).round(2)\n",
        "pred"
      ]
    },
    {
      "cell_type": "markdown",
      "metadata": {
        "id": "FX4qhh0Fbm-W"
      },
      "source": [
        "Creaters a new array:"
      ]
    },
    {
      "cell_type": "code",
      "execution_count": null,
      "metadata": {
        "id": "UiCvlPIMbm-X",
        "outputId": "09bb6bd4-ddaa-46f1-ed24-4f82347f4179"
      },
      "outputs": [
        {
          "data": {
            "text/plain": [
              "array([0.03, 0.44, 0.44, 0.55])"
            ]
          },
          "execution_count": 67,
          "metadata": {},
          "output_type": "execute_result"
        }
      ],
      "source": [
        "np.sort(pred)"
      ]
    },
    {
      "cell_type": "code",
      "execution_count": null,
      "metadata": {
        "id": "Tda9fluXbm-X",
        "outputId": "36c0ab49-ac22-4a2f-ac52-9c7152610b61"
      },
      "outputs": [
        {
          "data": {
            "text/plain": [
              "array([0.44, 0.03, 0.55, 0.44])"
            ]
          },
          "execution_count": 68,
          "metadata": {},
          "output_type": "execute_result"
        }
      ],
      "source": [
        "pred"
      ]
    },
    {
      "cell_type": "markdown",
      "metadata": {
        "id": "TeZccOShbm-X"
      },
      "source": [
        "Sorts in place:"
      ]
    },
    {
      "cell_type": "code",
      "execution_count": null,
      "metadata": {
        "id": "OqAi0ClDbm-Y"
      },
      "outputs": [],
      "source": [
        "pred.sort()"
      ]
    },
    {
      "cell_type": "code",
      "execution_count": null,
      "metadata": {
        "id": "ArH_xSejbm-Y",
        "outputId": "6ccce797-96e9-49f4-8e79-b3cfe947aeba"
      },
      "outputs": [
        {
          "data": {
            "text/plain": [
              "array([0.03, 0.44, 0.44, 0.55])"
            ]
          },
          "execution_count": 70,
          "metadata": {},
          "output_type": "execute_result"
        }
      ],
      "source": [
        "pred"
      ]
    },
    {
      "cell_type": "markdown",
      "metadata": {
        "id": "a8_8emU-bm-Y"
      },
      "source": [
        "Argsort - instead of sorting, return the indexes of the array in sorted order"
      ]
    },
    {
      "cell_type": "code",
      "execution_count": null,
      "metadata": {
        "id": "gC_iF8aqbm-Z",
        "outputId": "9a32db89-986f-49d1-c0f8-17cf25f56c22"
      },
      "outputs": [
        {
          "data": {
            "text/plain": [
              "array([0.44, 0.03, 0.55, 0.44])"
            ]
          },
          "execution_count": 71,
          "metadata": {},
          "output_type": "execute_result"
        }
      ],
      "source": [
        "np.random.seed(2)\n",
        "pred = np.random.rand(4).round(2)\n",
        "pred"
      ]
    },
    {
      "cell_type": "code",
      "execution_count": null,
      "metadata": {
        "id": "Qa_9V3j5bm-Z"
      },
      "outputs": [],
      "source": [
        "idx = pred.argsort()"
      ]
    },
    {
      "cell_type": "code",
      "execution_count": null,
      "metadata": {
        "id": "v7e1qnccbm-Z",
        "outputId": "3e835dd2-3b6f-40f9-a573-862ce5536154"
      },
      "outputs": [
        {
          "data": {
            "text/plain": [
              "array([1, 0, 3, 2])"
            ]
          },
          "execution_count": 73,
          "metadata": {},
          "output_type": "execute_result"
        }
      ],
      "source": [
        "idx"
      ]
    },
    {
      "cell_type": "code",
      "execution_count": null,
      "metadata": {
        "scrolled": true,
        "id": "O1P_Lpffbm-a",
        "outputId": "af90ccd6-a103-44fe-9843-0eb96f02f2fb"
      },
      "outputs": [
        {
          "data": {
            "text/plain": [
              "array([0.03, 0.44, 0.44, 0.55])"
            ]
          },
          "execution_count": 74,
          "metadata": {},
          "output_type": "execute_result"
        }
      ],
      "source": [
        "pred[idx]"
      ]
    },
    {
      "cell_type": "markdown",
      "metadata": {
        "id": "HfbZJKfLbm-a"
      },
      "source": [
        "## Reshaping"
      ]
    },
    {
      "cell_type": "markdown",
      "metadata": {
        "id": "x_yn56UPbm-a"
      },
      "source": [
        "The shape of an array cound be changed"
      ]
    },
    {
      "cell_type": "code",
      "execution_count": null,
      "metadata": {
        "id": "gyMPWBVGbm-b",
        "outputId": "fd04bd61-464e-4360-8600-2ccaa5e6f02f"
      },
      "outputs": [
        {
          "data": {
            "text/plain": [
              "array([ 0,  1,  2,  3,  4,  5,  6,  7,  8,  9, 10, 11])"
            ]
          },
          "execution_count": 75,
          "metadata": {},
          "output_type": "execute_result"
        }
      ],
      "source": [
        "rng = np.arange(12)\n",
        "rng"
      ]
    },
    {
      "cell_type": "code",
      "execution_count": null,
      "metadata": {
        "id": "9HYFvYgPbm-b",
        "outputId": "fa70d9ab-31f5-4478-ad5b-618c4e5f0fd1"
      },
      "outputs": [
        {
          "data": {
            "text/plain": [
              "(12,)"
            ]
          },
          "execution_count": 76,
          "metadata": {},
          "output_type": "execute_result"
        }
      ],
      "source": [
        "rng.shape"
      ]
    },
    {
      "cell_type": "code",
      "execution_count": null,
      "metadata": {
        "id": "MIT2nQnUbm-b",
        "outputId": "96d18859-5cbb-463f-a241-0af3ebe23fbe"
      },
      "outputs": [
        {
          "data": {
            "text/plain": [
              "array([[ 0,  1,  2],\n",
              "       [ 3,  4,  5],\n",
              "       [ 6,  7,  8],\n",
              "       [ 9, 10, 11]])"
            ]
          },
          "execution_count": 77,
          "metadata": {},
          "output_type": "execute_result"
        }
      ],
      "source": [
        "rng.reshape(4, 3)"
      ]
    },
    {
      "cell_type": "code",
      "execution_count": null,
      "metadata": {
        "id": "aNWTLxn2bm-c",
        "outputId": "498ecfe9-90db-4590-b69a-8d67f47c4922"
      },
      "outputs": [
        {
          "data": {
            "text/plain": [
              "array([[ 0,  4,  8],\n",
              "       [ 1,  5,  9],\n",
              "       [ 2,  6, 10],\n",
              "       [ 3,  7, 11]])"
            ]
          },
          "execution_count": 78,
          "metadata": {},
          "output_type": "execute_result"
        }
      ],
      "source": [
        "rng.reshape(4, 3, order='F')"
      ]
    },
    {
      "cell_type": "markdown",
      "metadata": {
        "id": "VfxIdSjVbm-c"
      },
      "source": [
        "But number of rows x columns should be equal to the total number of elements"
      ]
    },
    {
      "cell_type": "code",
      "execution_count": null,
      "metadata": {
        "id": "vfx_knsdbm-c",
        "outputId": "08dac7ea-0e55-4533-81b8-68a9a1af6bf2"
      },
      "outputs": [
        {
          "ename": "ValueError",
          "evalue": "cannot reshape array of size 12 into shape (4,4)",
          "output_type": "error",
          "traceback": [
            "\u001b[0;31m---------------------------------------------------------------------------\u001b[0m",
            "\u001b[0;31mValueError\u001b[0m                                Traceback (most recent call last)",
            "\u001b[0;32m<ipython-input-78-880fb98fa9c8>\u001b[0m in \u001b[0;36m<module>\u001b[0;34m\u001b[0m\n\u001b[0;32m----> 1\u001b[0;31m \u001b[0mrng\u001b[0m\u001b[0;34m.\u001b[0m\u001b[0mreshape\u001b[0m\u001b[0;34m(\u001b[0m\u001b[0;36m4\u001b[0m\u001b[0;34m,\u001b[0m \u001b[0;36m4\u001b[0m\u001b[0;34m)\u001b[0m\u001b[0;34m\u001b[0m\u001b[0;34m\u001b[0m\u001b[0m\n\u001b[0m",
            "\u001b[0;31mValueError\u001b[0m: cannot reshape array of size 12 into shape (4,4)"
          ]
        }
      ],
      "source": [
        "rng.reshape(4, 4)"
      ]
    },
    {
      "cell_type": "code",
      "execution_count": null,
      "metadata": {
        "id": "qGwDULS0bm-d",
        "outputId": "0a0cab94-1e15-48ae-d4b3-01a2b3b391ea",
        "colab": {
          "base_uri": "https://localhost:8080/"
        }
      },
      "outputs": [
        {
          "output_type": "execute_result",
          "data": {
            "text/plain": [
              "array([0, 1, 2])"
            ]
          },
          "metadata": {},
          "execution_count": 40
        }
      ],
      "source": [
        "vec = np.arange(3)\n",
        "vec"
      ]
    },
    {
      "cell_type": "code",
      "execution_count": null,
      "metadata": {
        "id": "ldUSDeYKbm-d",
        "outputId": "22a2b8cb-917c-44a6-9f35-2973bb38506a",
        "colab": {
          "base_uri": "https://localhost:8080/"
        }
      },
      "outputs": [
        {
          "output_type": "execute_result",
          "data": {
            "text/plain": [
              "array([[0, 1],\n",
              "       [2, 3],\n",
              "       [4, 5]])"
            ]
          },
          "metadata": {},
          "execution_count": 41
        }
      ],
      "source": [
        "mat = np.arange(6).reshape(3, 2)\n",
        "mat"
      ]
    },
    {
      "cell_type": "markdown",
      "metadata": {
        "id": "NwSfDH4fbm-d"
      },
      "source": [
        "Putting mulitple arrays together:\n",
        "\n",
        "- `concatenate`\n",
        "- `hstack`\n",
        "- `vstack`\n",
        "- `column_stack`"
      ]
    },
    {
      "cell_type": "code",
      "source": [
        "np.vstack([vec, vec])"
      ],
      "metadata": {
        "id": "KvnjdBDptYgT",
        "outputId": "c5189d78-eb6a-4d14-f822-26c17854d311",
        "colab": {
          "base_uri": "https://localhost:8080/"
        }
      },
      "execution_count": null,
      "outputs": [
        {
          "output_type": "execute_result",
          "data": {
            "text/plain": [
              "array([[0, 1, 2],\n",
              "       [0, 1, 2]])"
            ]
          },
          "metadata": {},
          "execution_count": 42
        }
      ]
    },
    {
      "cell_type": "code",
      "source": [
        "np.hstack([vec, vec])"
      ],
      "metadata": {
        "id": "T-z718BatYdG",
        "outputId": "5b2f4db0-6c63-468d-d37e-31b16a09d2a6",
        "colab": {
          "base_uri": "https://localhost:8080/"
        }
      },
      "execution_count": null,
      "outputs": [
        {
          "output_type": "execute_result",
          "data": {
            "text/plain": [
              "array([0, 1, 2, 0, 1, 2])"
            ]
          },
          "metadata": {},
          "execution_count": 43
        }
      ]
    },
    {
      "cell_type": "code",
      "source": [
        "np.column_stack([vec, vec])"
      ],
      "metadata": {
        "id": "KWxIwkNitYbP",
        "outputId": "1bca4e3b-45d9-44ab-9f27-927271a7aeb4",
        "colab": {
          "base_uri": "https://localhost:8080/"
        }
      },
      "execution_count": null,
      "outputs": [
        {
          "output_type": "execute_result",
          "data": {
            "text/plain": [
              "array([[0, 0],\n",
              "       [1, 1],\n",
              "       [2, 2]])"
            ]
          },
          "metadata": {},
          "execution_count": 44
        }
      ]
    },
    {
      "cell_type": "code",
      "source": [],
      "metadata": {
        "id": "CNX8rZdgtYYS"
      },
      "execution_count": null,
      "outputs": []
    },
    {
      "cell_type": "code",
      "source": [
        "np.concatenate([vec, vec])"
      ],
      "metadata": {
        "id": "pvZK1rgHtYU_",
        "outputId": "274432e1-c7d9-476b-b4f3-4329a336301c",
        "colab": {
          "base_uri": "https://localhost:8080/"
        }
      },
      "execution_count": null,
      "outputs": [
        {
          "output_type": "execute_result",
          "data": {
            "text/plain": [
              "array([0, 1, 2, 0, 1, 2])"
            ]
          },
          "metadata": {},
          "execution_count": 45
        }
      ]
    },
    {
      "cell_type": "code",
      "source": [],
      "metadata": {
        "id": "EvAS3ac2tYIF"
      },
      "execution_count": null,
      "outputs": []
    },
    {
      "cell_type": "code",
      "execution_count": null,
      "metadata": {
        "id": "lAMwBXoPbm-e",
        "outputId": "8bf6365a-8ea1-4da9-9f7b-197bc63cc1ef"
      },
      "outputs": [
        {
          "data": {
            "text/plain": [
              "array([0, 1, 2, 0, 1, 2])"
            ]
          },
          "execution_count": 82,
          "metadata": {},
          "output_type": "execute_result"
        }
      ],
      "source": [
        "np.concatenate([vec, vec])"
      ]
    },
    {
      "cell_type": "code",
      "execution_count": null,
      "metadata": {
        "id": "xgoHiR2hbm-e",
        "outputId": "7467b616-8dcb-4fe6-d63b-4fd0c149dc41"
      },
      "outputs": [
        {
          "data": {
            "text/plain": [
              "array([0, 1, 2, 0, 1, 2])"
            ]
          },
          "execution_count": 83,
          "metadata": {},
          "output_type": "execute_result"
        }
      ],
      "source": [
        "np.hstack([vec, vec])"
      ]
    },
    {
      "cell_type": "code",
      "execution_count": null,
      "metadata": {
        "scrolled": true,
        "id": "NgEgxisrbm-e",
        "outputId": "8667c988-f387-4909-917d-3f75a7119954"
      },
      "outputs": [
        {
          "data": {
            "text/plain": [
              "array([[0, 1, 0, 1],\n",
              "       [2, 3, 2, 3],\n",
              "       [4, 5, 4, 5]])"
            ]
          },
          "execution_count": 84,
          "metadata": {},
          "output_type": "execute_result"
        }
      ],
      "source": [
        "np.hstack([mat, mat])"
      ]
    },
    {
      "cell_type": "code",
      "execution_count": null,
      "metadata": {
        "scrolled": true,
        "id": "FQE7-s-4bm-e",
        "outputId": "2b2933cf-9e74-4144-9e4b-f5a437e0756a"
      },
      "outputs": [
        {
          "data": {
            "text/plain": [
              "array([[0, 1],\n",
              "       [2, 3],\n",
              "       [4, 5],\n",
              "       [0, 1],\n",
              "       [2, 3],\n",
              "       [4, 5]])"
            ]
          },
          "execution_count": 85,
          "metadata": {},
          "output_type": "execute_result"
        }
      ],
      "source": [
        "np.concatenate([mat, mat])"
      ]
    },
    {
      "cell_type": "code",
      "execution_count": null,
      "metadata": {
        "id": "cd1teicPbm-f",
        "outputId": "aa4a2309-8a78-4273-ee04-19791ade8251",
        "colab": {
          "base_uri": "https://localhost:8080/"
        }
      },
      "outputs": [
        {
          "output_type": "execute_result",
          "data": {
            "text/plain": [
              "array([[0, 1],\n",
              "       [2, 3],\n",
              "       [4, 5],\n",
              "       [0, 1],\n",
              "       [2, 3],\n",
              "       [4, 5]])"
            ]
          },
          "metadata": {},
          "execution_count": 46
        }
      ],
      "source": [
        "np.vstack([mat, mat])"
      ]
    },
    {
      "cell_type": "code",
      "execution_count": null,
      "metadata": {
        "scrolled": true,
        "id": "c--mqlqgbm-f",
        "outputId": "146476f5-fc3a-485c-eb20-0ffc6a991c08"
      },
      "outputs": [
        {
          "data": {
            "text/plain": [
              "array([[0, 0, 1],\n",
              "       [1, 2, 3],\n",
              "       [2, 4, 5]])"
            ]
          },
          "execution_count": 87,
          "metadata": {},
          "output_type": "execute_result"
        }
      ],
      "source": [
        "np.column_stack([vec, mat])"
      ]
    },
    {
      "cell_type": "code",
      "execution_count": null,
      "metadata": {
        "scrolled": true,
        "id": "qiF8RY3jbm-g",
        "outputId": "f40fa7ef-d07d-400e-a67a-bf26949bec5b"
      },
      "outputs": [
        {
          "data": {
            "text/plain": [
              "array([[0, 0],\n",
              "       [1, 1],\n",
              "       [2, 2]])"
            ]
          },
          "execution_count": 88,
          "metadata": {},
          "output_type": "execute_result"
        }
      ],
      "source": [
        "np.column_stack([vec, vec])"
      ]
    },
    {
      "cell_type": "code",
      "execution_count": null,
      "metadata": {
        "id": "JVgq7aCIbm-g",
        "outputId": "1edba5ff-dfcb-42e7-b392-293ac7798dfc"
      },
      "outputs": [
        {
          "data": {
            "text/plain": [
              "array([[0, 1, 2],\n",
              "       [0, 1, 2]])"
            ]
          },
          "execution_count": 89,
          "metadata": {},
          "output_type": "execute_result"
        }
      ],
      "source": [
        "np.vstack([vec, vec])"
      ]
    },
    {
      "cell_type": "code",
      "execution_count": null,
      "metadata": {
        "id": "6Hv8O57nbm-g",
        "outputId": "3946e5b4-02e2-4a40-9b00-84fd0ab84dd8"
      },
      "outputs": [
        {
          "data": {
            "text/plain": [
              "array([[0, 1],\n",
              "       [2, 3],\n",
              "       [4, 5],\n",
              "       [0, 1],\n",
              "       [2, 3],\n",
              "       [4, 5]])"
            ]
          },
          "execution_count": 90,
          "metadata": {},
          "output_type": "execute_result"
        }
      ],
      "source": [
        "np.vstack([mat, mat])"
      ]
    },
    {
      "cell_type": "markdown",
      "metadata": {
        "id": "no1M9zlNbm-h"
      },
      "source": [
        "Transpose"
      ]
    },
    {
      "cell_type": "code",
      "execution_count": null,
      "metadata": {
        "id": "jzdbdsk0bm-h",
        "outputId": "d9e5aa6c-4c66-4364-88e8-422bb136d458"
      },
      "outputs": [
        {
          "data": {
            "text/plain": [
              "array([[0, 2, 4],\n",
              "       [1, 3, 5]])"
            ]
          },
          "execution_count": 91,
          "metadata": {},
          "output_type": "execute_result"
        }
      ],
      "source": [
        "mat.T"
      ]
    },
    {
      "cell_type": "code",
      "execution_count": null,
      "metadata": {
        "id": "930JCEa3bm-h",
        "outputId": "285f3518-a0c9-453e-a25f-2d6538f00b0a"
      },
      "outputs": [
        {
          "data": {
            "text/plain": [
              "array([[0, 1, 2],\n",
              "       [0, 2, 4],\n",
              "       [1, 3, 5]])"
            ]
          },
          "execution_count": 92,
          "metadata": {},
          "output_type": "execute_result"
        }
      ],
      "source": [
        "np.vstack([vec, mat.T])"
      ]
    },
    {
      "cell_type": "markdown",
      "metadata": {
        "id": "i3RDftOSbm-h"
      },
      "source": [
        "## Slicing"
      ]
    },
    {
      "cell_type": "markdown",
      "metadata": {
        "id": "Q7fi_rt6bm-h"
      },
      "source": [
        "Taking a part of the array"
      ]
    },
    {
      "cell_type": "code",
      "execution_count": null,
      "metadata": {
        "scrolled": true,
        "id": "KfsyezaIbm-i",
        "outputId": "d9500588-1293-4ed2-bfc4-969a1d7818b4",
        "colab": {
          "base_uri": "https://localhost:8080/"
        }
      },
      "outputs": [
        {
          "output_type": "execute_result",
          "data": {
            "text/plain": [
              "array([[ 0,  1,  2],\n",
              "       [ 3,  4,  5],\n",
              "       [ 6,  7,  8],\n",
              "       [ 9, 10, 11],\n",
              "       [12, 13, 14]])"
            ]
          },
          "metadata": {},
          "execution_count": 48
        }
      ],
      "source": [
        "mat = np.arange(15).reshape(5, 3)\n",
        "mat"
      ]
    },
    {
      "cell_type": "code",
      "execution_count": null,
      "metadata": {
        "id": "39VoS_0abm-i",
        "outputId": "3725eab0-54e0-40ca-f5df-69bb7d9d2ffe"
      },
      "outputs": [
        {
          "data": {
            "text/plain": [
              "array([[0, 1, 2],\n",
              "       [3, 4, 5],\n",
              "       [6, 7, 8]])"
            ]
          },
          "execution_count": 94,
          "metadata": {},
          "output_type": "execute_result"
        }
      ],
      "source": [
        "mat[:3]"
      ]
    },
    {
      "cell_type": "code",
      "execution_count": null,
      "metadata": {
        "id": "dw1lzv2lbm-i",
        "outputId": "e8d38cc7-4295-410c-fddc-51be63876f57"
      },
      "outputs": [
        {
          "data": {
            "text/plain": [
              "array([[3, 4],\n",
              "       [6, 7]])"
            ]
          },
          "execution_count": 95,
          "metadata": {},
          "output_type": "execute_result"
        }
      ],
      "source": [
        "mat[1:3, :2]"
      ]
    },
    {
      "cell_type": "code",
      "execution_count": null,
      "metadata": {
        "id": "TpN_5z5Dbm-j",
        "outputId": "9ae88235-b16a-407d-f682-f8cc8e392676"
      },
      "outputs": [
        {
          "data": {
            "text/plain": [
              "array([[ 0,  1],\n",
              "       [ 3,  4],\n",
              "       [ 6,  7],\n",
              "       [ 9, 10],\n",
              "       [12, 13]])"
            ]
          },
          "execution_count": 96,
          "metadata": {},
          "output_type": "execute_result"
        }
      ],
      "source": [
        "mat[:, :2]"
      ]
    },
    {
      "cell_type": "code",
      "execution_count": null,
      "metadata": {
        "id": "q2-N8MGjbm-j",
        "outputId": "397c0e89-684d-494f-8995-00f0a6279588"
      },
      "outputs": [
        {
          "data": {
            "text/plain": [
              "array([[3, 4],\n",
              "       [6, 7]])"
            ]
          },
          "execution_count": 97,
          "metadata": {},
          "output_type": "execute_result"
        }
      ],
      "source": [
        "mat[1:3, :2]"
      ]
    },
    {
      "cell_type": "code",
      "execution_count": null,
      "metadata": {
        "id": "VWiVR8CObm-j",
        "outputId": "cd9f10db-1c8b-441a-c115-84081d94fdcf"
      },
      "outputs": [
        {
          "data": {
            "text/plain": [
              "array([[ 9, 10, 11],\n",
              "       [ 0,  1,  2],\n",
              "       [ 3,  4,  5]])"
            ]
          },
          "execution_count": 98,
          "metadata": {},
          "output_type": "execute_result"
        }
      ],
      "source": [
        "mat[[3, 0, 1]]"
      ]
    },
    {
      "cell_type": "code",
      "execution_count": null,
      "metadata": {
        "id": "9QIyWXuxbm-j",
        "outputId": "40551708-0c75-4b2c-ae71-d602c89ebe7c",
        "colab": {
          "base_uri": "https://localhost:8080/"
        }
      },
      "outputs": [
        {
          "output_type": "execute_result",
          "data": {
            "text/plain": [
              "array([False,  True, False])"
            ]
          },
          "metadata": {},
          "execution_count": 63
        }
      ],
      "source": [
        "mat[0,:] % 2 == 1"
      ]
    },
    {
      "cell_type": "code",
      "source": [
        "mat[mat[0,:]%2 == 1]"
      ],
      "metadata": {
        "id": "R4mIdgMgztaa",
        "outputId": "2800eb5b-e872-47dc-cee7-d59ced1612f1",
        "colab": {
          "base_uri": "https://localhost:8080/",
          "height": 141
        }
      },
      "execution_count": null,
      "outputs": [
        {
          "output_type": "error",
          "ename": "IndexError",
          "evalue": "boolean index did not match indexed array along dimension 0; dimension is 5 but corresponding boolean dimension is 3",
          "traceback": [
            "\u001b[0;31m---------------------------------------------------------------------------\u001b[0m",
            "\u001b[0;31mIndexError\u001b[0m                                Traceback (most recent call last)",
            "\u001b[0;32m<ipython-input-64-637f62c5b0bb>\u001b[0m in \u001b[0;36m<cell line: 1>\u001b[0;34m()\u001b[0m\n\u001b[0;32m----> 1\u001b[0;31m \u001b[0mmat\u001b[0m\u001b[0;34m[\u001b[0m\u001b[0mmat\u001b[0m\u001b[0;34m[\u001b[0m\u001b[0;36m0\u001b[0m\u001b[0;34m,\u001b[0m\u001b[0;34m:\u001b[0m\u001b[0;34m]\u001b[0m\u001b[0;34m%\u001b[0m\u001b[0;36m2\u001b[0m \u001b[0;34m==\u001b[0m \u001b[0;36m1\u001b[0m\u001b[0;34m]\u001b[0m\u001b[0;34m\u001b[0m\u001b[0;34m\u001b[0m\u001b[0m\n\u001b[0m",
            "\u001b[0;31mIndexError\u001b[0m: boolean index did not match indexed array along dimension 0; dimension is 5 but corresponding boolean dimension is 3"
          ]
        }
      ]
    },
    {
      "cell_type": "code",
      "execution_count": null,
      "metadata": {
        "id": "L_t5pj9sbm-k",
        "outputId": "d29ae0c4-83cf-4a5e-e12f-e7439af08d34",
        "colab": {
          "base_uri": "https://localhost:8080/"
        }
      },
      "outputs": [
        {
          "output_type": "execute_result",
          "data": {
            "text/plain": [
              "array([[ 3,  4,  5],\n",
              "       [ 9, 10, 11]])"
            ]
          },
          "metadata": {},
          "execution_count": 49
        }
      ],
      "source": [
        "mat[mat[:, 0] % 2 == 1]"
      ]
    },
    {
      "cell_type": "markdown",
      "metadata": {
        "id": "YOoMUywybm-k"
      },
      "source": [
        "## Linear Algebra\n",
        "### Multiplication"
      ]
    },
    {
      "cell_type": "markdown",
      "metadata": {
        "id": "YW1Vvdhbbm-k"
      },
      "source": [
        "Vector-vector multiplication"
      ]
    },
    {
      "cell_type": "code",
      "execution_count": null,
      "metadata": {
        "id": "aTk__SqXbm-k",
        "outputId": "14df5fdf-1df7-4ef5-a262-fdcfce213032",
        "colab": {
          "base_uri": "https://localhost:8080/"
        }
      },
      "outputs": [
        {
          "output_type": "execute_result",
          "data": {
            "text/plain": [
              "8"
            ]
          },
          "metadata": {},
          "execution_count": 65
        }
      ],
      "source": [
        "u = np.array([0, 1, 2])\n",
        "v = np.array([1, 2, 3])\n",
        "\n",
        "u.dot(v)"
      ]
    },
    {
      "cell_type": "markdown",
      "metadata": {
        "id": "uuTEzJI5bm-l"
      },
      "source": [
        "Matrix-vector multiplication"
      ]
    },
    {
      "cell_type": "code",
      "execution_count": null,
      "metadata": {
        "id": "fb_2NIDAbm-l"
      },
      "outputs": [],
      "source": [
        "X = np.array([\n",
        "    [0, 1, 2],\n",
        "    [1, 2, 3],\n",
        "    [2, 3, 3]\n",
        "])"
      ]
    },
    {
      "cell_type": "code",
      "execution_count": null,
      "metadata": {
        "id": "Gg3Agf8Jbm-l",
        "outputId": "eadfeab3-7661-40fe-eb7a-f9c9b07b93c7",
        "colab": {
          "base_uri": "https://localhost:8080/"
        }
      },
      "outputs": [
        {
          "output_type": "execute_result",
          "data": {
            "text/plain": [
              "array([5, 8, 9])"
            ]
          },
          "metadata": {},
          "execution_count": 68
        }
      ],
      "source": [
        "u.dot(X)"
      ]
    },
    {
      "cell_type": "code",
      "execution_count": null,
      "metadata": {
        "id": "nSkg5FRLbm-l"
      },
      "outputs": [],
      "source": [
        "U = np.array([\n",
        "    [4, 5, 6],\n",
        "    [5, 6, 7],\n",
        "    [6, 7, 8]\n",
        "])"
      ]
    },
    {
      "cell_type": "code",
      "execution_count": null,
      "metadata": {
        "id": "s7TzSzDBbm-m",
        "outputId": "97b0f7c0-c559-4b4d-a1ec-5c6a40ffaefd"
      },
      "outputs": [
        {
          "data": {
            "text/plain": [
              "array([[17, 20, 23],\n",
              "       [32, 38, 44],\n",
              "       [41, 49, 57]])"
            ]
          },
          "execution_count": 105,
          "metadata": {},
          "output_type": "execute_result"
        }
      ],
      "source": [
        "X.dot(U)"
      ]
    },
    {
      "cell_type": "markdown",
      "metadata": {
        "id": "fmpiHcKibm-m"
      },
      "source": [
        "### Inverse"
      ]
    },
    {
      "cell_type": "markdown",
      "metadata": {
        "id": "uVLQ0tf2bm-m"
      },
      "source": [
        "To inverse a matrix, use `inv` function from `linalg` package"
      ]
    },
    {
      "cell_type": "code",
      "execution_count": null,
      "metadata": {
        "id": "GmL1R8acbm-m"
      },
      "outputs": [],
      "source": [
        "A = np.array([\n",
        "    [0, 1, 2],\n",
        "    [1, 2, 3],\n",
        "    [2, 3, 3]\n",
        "])"
      ]
    },
    {
      "cell_type": "code",
      "execution_count": null,
      "metadata": {
        "id": "8IId48dMbm-n",
        "outputId": "89585bea-9405-4fe8-ff25-ca0d817a2499"
      },
      "outputs": [
        {
          "data": {
            "text/plain": [
              "array([[-3.,  3., -1.],\n",
              "       [ 3., -4.,  2.],\n",
              "       [-1.,  2., -1.]])"
            ]
          },
          "execution_count": 107,
          "metadata": {},
          "output_type": "execute_result"
        }
      ],
      "source": [
        "Ainv = np.linalg.inv(A)\n",
        "Ainv"
      ]
    },
    {
      "cell_type": "code",
      "execution_count": null,
      "metadata": {
        "id": "8qJhwHOJbm-n",
        "outputId": "f2cfd50c-fcc9-4daf-bf01-467e8035ec9a"
      },
      "outputs": [
        {
          "data": {
            "text/plain": [
              "array([[1., 0., 0.],\n",
              "       [0., 1., 0.],\n",
              "       [0., 0., 1.]])"
            ]
          },
          "execution_count": 108,
          "metadata": {},
          "output_type": "execute_result"
        }
      ],
      "source": [
        "A.dot(Ainv)"
      ]
    },
    {
      "cell_type": "markdown",
      "metadata": {
        "id": "C8Itc-SJbm-n"
      },
      "source": [
        "B is not invertible (\"singular\"):"
      ]
    },
    {
      "cell_type": "code",
      "execution_count": null,
      "metadata": {
        "id": "7gnsMMzWbm-n",
        "outputId": "0a52a120-cb36-4699-eb2d-453563812b2d"
      },
      "outputs": [
        {
          "ename": "LinAlgError",
          "evalue": "Singular matrix",
          "output_type": "error",
          "traceback": [
            "\u001b[0;31m---------------------------------------------------------------------------\u001b[0m",
            "\u001b[0;31mLinAlgError\u001b[0m                               Traceback (most recent call last)",
            "\u001b[0;32m<ipython-input-107-14528a9f848e>\u001b[0m in \u001b[0;36m<module>\u001b[0;34m\u001b[0m\n\u001b[1;32m      5\u001b[0m ])\n\u001b[1;32m      6\u001b[0m \u001b[0;34m\u001b[0m\u001b[0m\n\u001b[0;32m----> 7\u001b[0;31m \u001b[0mnp\u001b[0m\u001b[0;34m.\u001b[0m\u001b[0mlinalg\u001b[0m\u001b[0;34m.\u001b[0m\u001b[0minv\u001b[0m\u001b[0;34m(\u001b[0m\u001b[0mB\u001b[0m\u001b[0;34m)\u001b[0m\u001b[0;34m\u001b[0m\u001b[0;34m\u001b[0m\u001b[0m\n\u001b[0m",
            "\u001b[0;32m<__array_function__ internals>\u001b[0m in \u001b[0;36minv\u001b[0;34m(*args, **kwargs)\u001b[0m\n",
            "\u001b[0;32m~/anaconda3/envs/py36/lib/python3.6/site-packages/numpy/linalg/linalg.py\u001b[0m in \u001b[0;36minv\u001b[0;34m(a)\u001b[0m\n\u001b[1;32m    544\u001b[0m     \u001b[0msignature\u001b[0m \u001b[0;34m=\u001b[0m \u001b[0;34m'D->D'\u001b[0m \u001b[0;32mif\u001b[0m \u001b[0misComplexType\u001b[0m\u001b[0;34m(\u001b[0m\u001b[0mt\u001b[0m\u001b[0;34m)\u001b[0m \u001b[0;32melse\u001b[0m \u001b[0;34m'd->d'\u001b[0m\u001b[0;34m\u001b[0m\u001b[0;34m\u001b[0m\u001b[0m\n\u001b[1;32m    545\u001b[0m     \u001b[0mextobj\u001b[0m \u001b[0;34m=\u001b[0m \u001b[0mget_linalg_error_extobj\u001b[0m\u001b[0;34m(\u001b[0m\u001b[0m_raise_linalgerror_singular\u001b[0m\u001b[0;34m)\u001b[0m\u001b[0;34m\u001b[0m\u001b[0;34m\u001b[0m\u001b[0m\n\u001b[0;32m--> 546\u001b[0;31m     \u001b[0mainv\u001b[0m \u001b[0;34m=\u001b[0m \u001b[0m_umath_linalg\u001b[0m\u001b[0;34m.\u001b[0m\u001b[0minv\u001b[0m\u001b[0;34m(\u001b[0m\u001b[0ma\u001b[0m\u001b[0;34m,\u001b[0m \u001b[0msignature\u001b[0m\u001b[0;34m=\u001b[0m\u001b[0msignature\u001b[0m\u001b[0;34m,\u001b[0m \u001b[0mextobj\u001b[0m\u001b[0;34m=\u001b[0m\u001b[0mextobj\u001b[0m\u001b[0;34m)\u001b[0m\u001b[0;34m\u001b[0m\u001b[0;34m\u001b[0m\u001b[0m\n\u001b[0m\u001b[1;32m    547\u001b[0m     \u001b[0;32mreturn\u001b[0m \u001b[0mwrap\u001b[0m\u001b[0;34m(\u001b[0m\u001b[0mainv\u001b[0m\u001b[0;34m.\u001b[0m\u001b[0mastype\u001b[0m\u001b[0;34m(\u001b[0m\u001b[0mresult_t\u001b[0m\u001b[0;34m,\u001b[0m \u001b[0mcopy\u001b[0m\u001b[0;34m=\u001b[0m\u001b[0;32mFalse\u001b[0m\u001b[0;34m)\u001b[0m\u001b[0;34m)\u001b[0m\u001b[0;34m\u001b[0m\u001b[0;34m\u001b[0m\u001b[0m\n\u001b[1;32m    548\u001b[0m \u001b[0;34m\u001b[0m\u001b[0m\n",
            "\u001b[0;32m~/anaconda3/envs/py36/lib/python3.6/site-packages/numpy/linalg/linalg.py\u001b[0m in \u001b[0;36m_raise_linalgerror_singular\u001b[0;34m(err, flag)\u001b[0m\n\u001b[1;32m     86\u001b[0m \u001b[0;34m\u001b[0m\u001b[0m\n\u001b[1;32m     87\u001b[0m \u001b[0;32mdef\u001b[0m \u001b[0m_raise_linalgerror_singular\u001b[0m\u001b[0;34m(\u001b[0m\u001b[0merr\u001b[0m\u001b[0;34m,\u001b[0m \u001b[0mflag\u001b[0m\u001b[0;34m)\u001b[0m\u001b[0;34m:\u001b[0m\u001b[0;34m\u001b[0m\u001b[0;34m\u001b[0m\u001b[0m\n\u001b[0;32m---> 88\u001b[0;31m     \u001b[0;32mraise\u001b[0m \u001b[0mLinAlgError\u001b[0m\u001b[0;34m(\u001b[0m\u001b[0;34m\"Singular matrix\"\u001b[0m\u001b[0;34m)\u001b[0m\u001b[0;34m\u001b[0m\u001b[0;34m\u001b[0m\u001b[0m\n\u001b[0m\u001b[1;32m     89\u001b[0m \u001b[0;34m\u001b[0m\u001b[0m\n\u001b[1;32m     90\u001b[0m \u001b[0;32mdef\u001b[0m \u001b[0m_raise_linalgerror_nonposdef\u001b[0m\u001b[0;34m(\u001b[0m\u001b[0merr\u001b[0m\u001b[0;34m,\u001b[0m \u001b[0mflag\u001b[0m\u001b[0;34m)\u001b[0m\u001b[0;34m:\u001b[0m\u001b[0;34m\u001b[0m\u001b[0;34m\u001b[0m\u001b[0m\n",
            "\u001b[0;31mLinAlgError\u001b[0m: Singular matrix"
          ]
        }
      ],
      "source": [
        "B = np.array([\n",
        "    [0, 1, 1],\n",
        "    [1, 2, 3],\n",
        "    [2, 3, 5]\n",
        "])\n",
        "\n",
        "np.linalg.inv(B)"
      ]
    },
    {
      "cell_type": "markdown",
      "metadata": {
        "id": "bIwwnxFUbm-n"
      },
      "source": [
        "Note: When you need to solve _Ax = b_, you don't really to compute the inverse. You can use `solve`:"
      ]
    },
    {
      "cell_type": "code",
      "execution_count": null,
      "metadata": {
        "id": "ob0BGguybm-o"
      },
      "outputs": [],
      "source": [
        "b = np.array([1, 2, 3])"
      ]
    },
    {
      "cell_type": "code",
      "execution_count": null,
      "metadata": {
        "id": "WFdilORWbm-o",
        "outputId": "ef13ea1d-dcf5-4197-8719-3341e6f312a5"
      },
      "outputs": [
        {
          "data": {
            "text/plain": [
              "array([0., 1., 0.])"
            ]
          },
          "execution_count": 111,
          "metadata": {},
          "output_type": "execute_result"
        }
      ],
      "source": [
        "x = np.linalg.solve(A, b)\n",
        "x"
      ]
    },
    {
      "cell_type": "code",
      "execution_count": null,
      "metadata": {
        "id": "OE31bTH7bm-o",
        "outputId": "f4b00db4-d60c-418a-fa6f-83a3f315e463"
      },
      "outputs": [
        {
          "data": {
            "text/plain": [
              "array([1., 2., 3.])"
            ]
          },
          "execution_count": 112,
          "metadata": {},
          "output_type": "execute_result"
        }
      ],
      "source": [
        "A.dot(x)"
      ]
    }
  ],
  "metadata": {
    "kernelspec": {
      "display_name": "Python 3",
      "language": "python",
      "name": "python3"
    },
    "language_info": {
      "codemirror_mode": {
        "name": "ipython",
        "version": 3
      },
      "file_extension": ".py",
      "mimetype": "text/x-python",
      "name": "python",
      "nbconvert_exporter": "python",
      "pygments_lexer": "ipython3",
      "version": "3.8.8"
    },
    "colab": {
      "provenance": [],
      "include_colab_link": true
    }
  },
  "nbformat": 4,
  "nbformat_minor": 0
}